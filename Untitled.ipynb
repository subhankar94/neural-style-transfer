{
 "cells": [
  {
   "cell_type": "code",
   "execution_count": 2,
   "metadata": {
    "collapsed": false
   },
   "outputs": [],
   "source": [
    "import numpy as np\n",
    "import matplotlib.pyplot as plt"
   ]
  },
  {
   "cell_type": "code",
   "execution_count": 6,
   "metadata": {
    "collapsed": false
   },
   "outputs": [
    {
     "data": {
      "text/plain": [
       "[<matplotlib.lines.Line2D at 0x10aaa4be0>]"
      ]
     },
     "execution_count": 6,
     "metadata": {},
     "output_type": "execute_result"
    }
   ],
   "source": [
    "x = [i*1000 for i in range(0, 39)]\n",
    "y = [2.08144e+07, 1.7655e+07, 1.75004e+07, 9.13397e+06, 6.38715e+06, 6.04403e+06, 6.18574e+06, 6.28778e+06, 6.71474e+06,\n",
    "    4.97716e+06, 4.54696e+06, 5.09149e+06, 4.07727e+06, 4.01504e+06, 3.95808e+06, 3.4404e+06, 4.06336e+06, 4.21597e+06,\n",
    "    3.55475e+06, 4.21423e+06, 3.69594e+06, 4.2419e+06, 4.56708e+06, 3.68693e+06, 3.40014e+06, 3.25676e+06, 3.54795e+06,\n",
    "    3.49433e+06, 4.43824e+06, 3.50423e+06, 3.3897e+06, 4.0155e+06, 3.65349e+06, 3.00131e+06, 3.08133e+06, 2.55408e+06,\n",
    "    3.70485e+06, 4.83694e+06, 3.13088e+06]\n",
    "\n",
    "plt.plot(x, y)"
   ]
  },
  {
   "cell_type": "code",
   "execution_count": 9,
   "metadata": {
    "collapsed": false
   },
   "outputs": [],
   "source": [
    "plt.savefig('convergence_plot.eps')"
   ]
  },
  {
   "cell_type": "code",
   "execution_count": null,
   "metadata": {
    "collapsed": true
   },
   "outputs": [],
   "source": []
  }
 ],
 "metadata": {
  "kernelspec": {
   "display_name": "Python 3",
   "language": "python",
   "name": "python3"
  },
  "language_info": {
   "codemirror_mode": {
    "name": "ipython",
    "version": 3
   },
   "file_extension": ".py",
   "mimetype": "text/x-python",
   "name": "python",
   "nbconvert_exporter": "python",
   "pygments_lexer": "ipython3",
   "version": "3.5.1"
  }
 },
 "nbformat": 4,
 "nbformat_minor": 0
}
